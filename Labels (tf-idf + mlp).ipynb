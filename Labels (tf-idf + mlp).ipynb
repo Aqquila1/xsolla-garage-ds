{
 "cells": [
  {
   "cell_type": "code",
   "execution_count": 1,
   "metadata": {},
   "outputs": [],
   "source": [
    "import pandas as pd\n",
    "import string\n",
    "import re\n",
    "import nltk\n",
    "import numpy as np\n",
    "import collections as co\n",
    "import matplotlib.pyplot as plt\n",
    "%matplotlib inline"
   ]
  },
  {
   "cell_type": "code",
   "execution_count": 2,
   "metadata": {},
   "outputs": [],
   "source": [
    "data = pd.read_csv('data/lenta-ru-news.csv')"
   ]
  },
  {
   "cell_type": "code",
   "execution_count": 3,
   "metadata": {},
   "outputs": [
    {
     "data": {
      "text/html": [
       "<div>\n",
       "<style scoped>\n",
       "    .dataframe tbody tr th:only-of-type {\n",
       "        vertical-align: middle;\n",
       "    }\n",
       "\n",
       "    .dataframe tbody tr th {\n",
       "        vertical-align: top;\n",
       "    }\n",
       "\n",
       "    .dataframe thead th {\n",
       "        text-align: right;\n",
       "    }\n",
       "</style>\n",
       "<table border=\"1\" class=\"dataframe\">\n",
       "  <thead>\n",
       "    <tr style=\"text-align: right;\">\n",
       "      <th></th>\n",
       "      <th>url</th>\n",
       "      <th>title</th>\n",
       "      <th>text</th>\n",
       "      <th>topic</th>\n",
       "      <th>tags</th>\n",
       "    </tr>\n",
       "  </thead>\n",
       "  <tbody>\n",
       "    <tr>\n",
       "      <th>0</th>\n",
       "      <td>https://lenta.ru/news/2018/12/14/cancer/</td>\n",
       "      <td>Названы регионы России с самой высокой смертно...</td>\n",
       "      <td>Вице-премьер по социальным вопросам Татьяна Го...</td>\n",
       "      <td>Россия</td>\n",
       "      <td>Общество</td>\n",
       "    </tr>\n",
       "    <tr>\n",
       "      <th>1</th>\n",
       "      <td>https://lenta.ru/news/2018/12/15/doping/</td>\n",
       "      <td>Австрия не представила доказательств вины росс...</td>\n",
       "      <td>Австрийские правоохранительные органы не предс...</td>\n",
       "      <td>Спорт</td>\n",
       "      <td>Зимние виды</td>\n",
       "    </tr>\n",
       "    <tr>\n",
       "      <th>2</th>\n",
       "      <td>https://lenta.ru/news/2018/12/15/disneyland/</td>\n",
       "      <td>Обнаружено самое счастливое место на планете</td>\n",
       "      <td>Сотрудники социальной сети Instagram проанализ...</td>\n",
       "      <td>Путешествия</td>\n",
       "      <td>Мир</td>\n",
       "    </tr>\n",
       "    <tr>\n",
       "      <th>3</th>\n",
       "      <td>https://lenta.ru/news/2018/12/15/usa25/</td>\n",
       "      <td>В США раскрыли сумму расходов на расследование...</td>\n",
       "      <td>С начала расследования российского вмешательст...</td>\n",
       "      <td>Мир</td>\n",
       "      <td>Политика</td>\n",
       "    </tr>\n",
       "    <tr>\n",
       "      <th>4</th>\n",
       "      <td>https://lenta.ru/news/2018/12/15/integrity/</td>\n",
       "      <td>Хакеры рассказали о планах Великобритании зами...</td>\n",
       "      <td>Хакерская группировка Anonymous опубликовала н...</td>\n",
       "      <td>Мир</td>\n",
       "      <td>Общество</td>\n",
       "    </tr>\n",
       "  </tbody>\n",
       "</table>\n",
       "</div>"
      ],
      "text/plain": [
       "                                            url  \\\n",
       "0      https://lenta.ru/news/2018/12/14/cancer/   \n",
       "1      https://lenta.ru/news/2018/12/15/doping/   \n",
       "2  https://lenta.ru/news/2018/12/15/disneyland/   \n",
       "3       https://lenta.ru/news/2018/12/15/usa25/   \n",
       "4   https://lenta.ru/news/2018/12/15/integrity/   \n",
       "\n",
       "                                               title  \\\n",
       "0  Названы регионы России с самой высокой смертно...   \n",
       "1  Австрия не представила доказательств вины росс...   \n",
       "2       Обнаружено самое счастливое место на планете   \n",
       "3  В США раскрыли сумму расходов на расследование...   \n",
       "4  Хакеры рассказали о планах Великобритании зами...   \n",
       "\n",
       "                                                text        topic         tags  \n",
       "0  Вице-премьер по социальным вопросам Татьяна Го...       Россия     Общество  \n",
       "1  Австрийские правоохранительные органы не предс...        Спорт  Зимние виды  \n",
       "2  Сотрудники социальной сети Instagram проанализ...  Путешествия          Мир  \n",
       "3  С начала расследования российского вмешательст...          Мир     Политика  \n",
       "4  Хакерская группировка Anonymous опубликовала н...          Мир     Общество  "
      ]
     },
     "execution_count": 3,
     "metadata": {},
     "output_type": "execute_result"
    }
   ],
   "source": [
    "data.head()"
   ]
  },
  {
   "cell_type": "code",
   "execution_count": 4,
   "metadata": {},
   "outputs": [
    {
     "data": {
      "text/plain": [
       "(739351, 5)"
      ]
     },
     "execution_count": 4,
     "metadata": {},
     "output_type": "execute_result"
    }
   ],
   "source": [
    "data.shape"
   ]
  },
  {
   "cell_type": "code",
   "execution_count": 5,
   "metadata": {
    "scrolled": true
   },
   "outputs": [
    {
     "data": {
      "text/plain": [
       "array(['Общество', 'Зимние виды', 'Мир', 'Политика', 'Украина', 'Coцсети',\n",
       "       'Следствие и суд', 'Хоккей', 'Деньги', 'Госэкономика',\n",
       "       'Происшествия', 'Футбол', 'Бизнес', 'Музыка', 'Квартира',\n",
       "       'Бокс и ММА', 'Театр', 'Оружие', 'Дача', 'Прибалтика', 'Рынки',\n",
       "       'Звери', 'Техника', 'Интернет', 'Люди', 'Наука', 'Внешний вид',\n",
       "       'Кино', 'ТВ и радио', 'Регионы', 'Космос', 'Явления', 'Стиль',\n",
       "       'Белоруссия', 'События', 'Деловой климат', 'Все', 'Искусство',\n",
       "       'Движение', 'Преступность', 'Криминал', 'Жизнь', 'Мнения',\n",
       "       'Полиция и спецслужбы', 'Конфликты', 'Авто', 'Книги', 'Вкусы',\n",
       "       'Фотография', 'Реклама', 'Закавказье', nan, 'Часы', 'Летние виды',\n",
       "       'Россия', 'Пресса', 'Вещи', 'История', 'Игры', 'Достижения',\n",
       "       'Офис', 'Средняя Азия', 'Еда', 'Москва', 'Социальная сфера',\n",
       "       'Молдавия', 'Преступная Россия', 'Гаджеты', 'Город',\n",
       "       'Киберпреступность', 'Страноведение', 'Софт', 'Инструменты',\n",
       "       'Вирусные ролики', 'Экология', 'Выборы', 'Мемы', 'Наследие',\n",
       "       'Туризм', 'Вооружение', 'Мировой бизнес', 'Автобизнес',\n",
       "       'Финансы компаний', 'Производители', 'Аналитика рынка',\n",
       "       'Госрегулирование', 'Мировой опыт', 'Инновации', 'Первая мировая'],\n",
       "      dtype=object)"
      ]
     },
     "execution_count": 5,
     "metadata": {},
     "output_type": "execute_result"
    }
   ],
   "source": [
    "data['tags'].unique()"
   ]
  },
  {
   "cell_type": "code",
   "execution_count": 6,
   "metadata": {},
   "outputs": [],
   "source": [
    "freq = pd.DataFrame(data['tags'].value_counts())\n",
    "\n",
    "category_to_drop = ['Украина', 'Происшествия', 'Госэкономика', 'Следствие и суд', 'Преступность',\n",
    "                    'Регионы', 'Криминал', 'Конфликты', 'Полиция и спецслужбы', 'Молдавия', 'Все',\n",
    "                    'Общество', 'Политика']\n",
    "\n",
    "freq_threshold = 1000\n",
    "category_to_drop.extend(freq[freq['tags'] < freq_threshold].index)"
   ]
  },
  {
   "cell_type": "code",
   "execution_count": 7,
   "metadata": {},
   "outputs": [],
   "source": [
    "for cat in category_to_drop:\n",
    "    data = data.drop(data[data['tags'] == cat].index)"
   ]
  },
  {
   "cell_type": "code",
   "execution_count": 8,
   "metadata": {},
   "outputs": [
    {
     "data": {
      "text/plain": [
       "(142612, 5)"
      ]
     },
     "execution_count": 8,
     "metadata": {},
     "output_type": "execute_result"
    }
   ],
   "source": [
    "data.shape"
   ]
  },
  {
   "cell_type": "code",
   "execution_count": 9,
   "metadata": {},
   "outputs": [
    {
     "data": {
      "text/plain": [
       "False    116098\n",
       "True      26514\n",
       "Name: tags, dtype: int64"
      ]
     },
     "execution_count": 9,
     "metadata": {},
     "output_type": "execute_result"
    }
   ],
   "source": [
    "data['tags'].isna().value_counts()"
   ]
  },
  {
   "cell_type": "code",
   "execution_count": 10,
   "metadata": {},
   "outputs": [],
   "source": [
    "data = data.drop(data[data['tags'].isna()].index)"
   ]
  },
  {
   "cell_type": "code",
   "execution_count": 11,
   "metadata": {},
   "outputs": [
    {
     "data": {
      "text/plain": [
       "(116098, 5)"
      ]
     },
     "execution_count": 11,
     "metadata": {},
     "output_type": "execute_result"
    }
   ],
   "source": [
    "data.shape"
   ]
  },
  {
   "cell_type": "code",
   "execution_count": 12,
   "metadata": {},
   "outputs": [],
   "source": [
    "data['title'] = data['title'].str.replace('\\xa0', ' ')\n",
    "data['title'] = data['title'].str.lower()"
   ]
  },
  {
   "cell_type": "code",
   "execution_count": 13,
   "metadata": {},
   "outputs": [
    {
     "data": {
      "text/html": [
       "<div>\n",
       "<style scoped>\n",
       "    .dataframe tbody tr th:only-of-type {\n",
       "        vertical-align: middle;\n",
       "    }\n",
       "\n",
       "    .dataframe tbody tr th {\n",
       "        vertical-align: top;\n",
       "    }\n",
       "\n",
       "    .dataframe thead th {\n",
       "        text-align: right;\n",
       "    }\n",
       "</style>\n",
       "<table border=\"1\" class=\"dataframe\">\n",
       "  <thead>\n",
       "    <tr style=\"text-align: right;\">\n",
       "      <th></th>\n",
       "      <th>review</th>\n",
       "    </tr>\n",
       "  </thead>\n",
       "  <tbody>\n",
       "    <tr>\n",
       "      <th>0</th>\n",
       "      <td>австрия не представила доказательств вины росс...</td>\n",
       "    </tr>\n",
       "    <tr>\n",
       "      <th>1</th>\n",
       "      <td>обнаружено самое счастливое место на планете</td>\n",
       "    </tr>\n",
       "  </tbody>\n",
       "</table>\n",
       "</div>"
      ],
      "text/plain": [
       "                                              review\n",
       "0  австрия не представила доказательств вины росс...\n",
       "1       обнаружено самое счастливое место на планете"
      ]
     },
     "execution_count": 13,
     "metadata": {},
     "output_type": "execute_result"
    }
   ],
   "source": [
    "df_reviews = data[['title']][:]\n",
    "df_reviews.columns = ['review']\n",
    "df_reviews.reset_index(drop = True , inplace = True)\n",
    "df_reviews.head(2)"
   ]
  },
  {
   "cell_type": "code",
   "execution_count": 14,
   "metadata": {},
   "outputs": [],
   "source": [
    "list_true_words = []\n",
    "\n",
    "for i ,row in  df_reviews.iterrows():\n",
    "    words = []    \n",
    "    true_words = []    \n",
    "    \n",
    "    a_line = row['review']\n",
    "    \n",
    "    try:\n",
    "        words = re.split(' ', a_line)\n",
    "        true_words = []\n",
    "\n",
    "        for word in words:\n",
    "            m = re.search('(\\w+)',word)\n",
    "            if m is not None:\n",
    "                good_word = m.group(0)\n",
    "                true_words.append(good_word)       \n",
    "    except:\n",
    "        pass\n",
    "    \n",
    "    list_true_words.append(true_words)"
   ]
  },
  {
   "cell_type": "code",
   "execution_count": 15,
   "metadata": {},
   "outputs": [],
   "source": [
    "df_reviews['list_of_words'] = list_true_words"
   ]
  },
  {
   "cell_type": "code",
   "execution_count": 16,
   "metadata": {},
   "outputs": [
    {
     "data": {
      "text/html": [
       "<div>\n",
       "<style scoped>\n",
       "    .dataframe tbody tr th:only-of-type {\n",
       "        vertical-align: middle;\n",
       "    }\n",
       "\n",
       "    .dataframe tbody tr th {\n",
       "        vertical-align: top;\n",
       "    }\n",
       "\n",
       "    .dataframe thead th {\n",
       "        text-align: right;\n",
       "    }\n",
       "</style>\n",
       "<table border=\"1\" class=\"dataframe\">\n",
       "  <thead>\n",
       "    <tr style=\"text-align: right;\">\n",
       "      <th></th>\n",
       "      <th>sentence</th>\n",
       "      <th>list_of_words</th>\n",
       "    </tr>\n",
       "  </thead>\n",
       "  <tbody>\n",
       "    <tr>\n",
       "      <th>0</th>\n",
       "      <td>австрия не представила доказательств вины росс...</td>\n",
       "      <td>[австрия, не, представила, доказательств, вины...</td>\n",
       "    </tr>\n",
       "    <tr>\n",
       "      <th>1</th>\n",
       "      <td>обнаружено самое счастливое место на планете</td>\n",
       "      <td>[обнаружено, самое, счастливое, место, на, пла...</td>\n",
       "    </tr>\n",
       "    <tr>\n",
       "      <th>2</th>\n",
       "      <td>российскую молодежь предложили обучать духовны...</td>\n",
       "      <td>[российскую, молодежь, предложили, обучать, ду...</td>\n",
       "    </tr>\n",
       "    <tr>\n",
       "      <th>3</th>\n",
       "      <td>названы регионы россии с самым дорогим и дешев...</td>\n",
       "      <td>[названы, регионы, россии, с, самым, дорогим, ...</td>\n",
       "    </tr>\n",
       "    <tr>\n",
       "      <th>4</th>\n",
       "      <td>испанские клубы открестились от неймара</td>\n",
       "      <td>[испанские, клубы, открестились, от, неймара]</td>\n",
       "    </tr>\n",
       "  </tbody>\n",
       "</table>\n",
       "</div>"
      ],
      "text/plain": [
       "                                            sentence  \\\n",
       "0  австрия не представила доказательств вины росс...   \n",
       "1       обнаружено самое счастливое место на планете   \n",
       "2  российскую молодежь предложили обучать духовны...   \n",
       "3  названы регионы россии с самым дорогим и дешев...   \n",
       "4            испанские клубы открестились от неймара   \n",
       "\n",
       "                                       list_of_words  \n",
       "0  [австрия, не, представила, доказательств, вины...  \n",
       "1  [обнаружено, самое, счастливое, место, на, пла...  \n",
       "2  [российскую, молодежь, предложили, обучать, ду...  \n",
       "3  [названы, регионы, россии, с, самым, дорогим, ...  \n",
       "4      [испанские, клубы, открестились, от, неймара]  "
      ]
     },
     "execution_count": 16,
     "metadata": {},
     "output_type": "execute_result"
    }
   ],
   "source": [
    "text_analizator_df = df_reviews[:]\n",
    "text_analizator_df.rename(columns = {'review' : 'sentence'} , inplace = True)\n",
    "text_analizator_df.head()"
   ]
  },
  {
   "cell_type": "code",
   "execution_count": 17,
   "metadata": {},
   "outputs": [],
   "source": [
    "# Лемматизация\n",
    "import pymorphy2\n",
    "morph = pymorphy2.MorphAnalyzer()\n",
    "\n",
    "def lemmatize_list_of_words(list_of_words):\n",
    "    res = []\n",
    "    for word in list_of_words:\n",
    "        p = morph.parse(word)[0]\n",
    "        new_word = p.normal_form\n",
    "        res.append(new_word)\n",
    "    return res  \n",
    "\n",
    "text_analizator_df['lemmatize_list_of_words'] = text_analizator_df['list_of_words'].apply(lemmatize_list_of_words)"
   ]
  },
  {
   "cell_type": "code",
   "execution_count": 18,
   "metadata": {},
   "outputs": [
    {
     "data": {
      "text/html": [
       "<div>\n",
       "<style scoped>\n",
       "    .dataframe tbody tr th:only-of-type {\n",
       "        vertical-align: middle;\n",
       "    }\n",
       "\n",
       "    .dataframe tbody tr th {\n",
       "        vertical-align: top;\n",
       "    }\n",
       "\n",
       "    .dataframe thead th {\n",
       "        text-align: right;\n",
       "    }\n",
       "</style>\n",
       "<table border=\"1\" class=\"dataframe\">\n",
       "  <thead>\n",
       "    <tr style=\"text-align: right;\">\n",
       "      <th></th>\n",
       "      <th>sentence</th>\n",
       "      <th>list_of_words</th>\n",
       "      <th>lemmatize_list_of_words</th>\n",
       "    </tr>\n",
       "  </thead>\n",
       "  <tbody>\n",
       "    <tr>\n",
       "      <th>0</th>\n",
       "      <td>австрия не представила доказательств вины росс...</td>\n",
       "      <td>[австрия, не, представила, доказательств, вины...</td>\n",
       "      <td>[австрия, не, представить, доказательство, вин...</td>\n",
       "    </tr>\n",
       "    <tr>\n",
       "      <th>1</th>\n",
       "      <td>обнаружено самое счастливое место на планете</td>\n",
       "      <td>[обнаружено, самое, счастливое, место, на, пла...</td>\n",
       "      <td>[обнаружить, самый, счастливый, место, на, пла...</td>\n",
       "    </tr>\n",
       "    <tr>\n",
       "      <th>2</th>\n",
       "      <td>российскую молодежь предложили обучать духовны...</td>\n",
       "      <td>[российскую, молодежь, предложили, обучать, ду...</td>\n",
       "      <td>[российский, молодёжь, предложить, обучать, ду...</td>\n",
       "    </tr>\n",
       "    <tr>\n",
       "      <th>3</th>\n",
       "      <td>названы регионы россии с самым дорогим и дешев...</td>\n",
       "      <td>[названы, регионы, россии, с, самым, дорогим, ...</td>\n",
       "      <td>[назвать, регион, россия, с, самый, дорогой, и...</td>\n",
       "    </tr>\n",
       "    <tr>\n",
       "      <th>4</th>\n",
       "      <td>испанские клубы открестились от неймара</td>\n",
       "      <td>[испанские, клубы, открестились, от, неймара]</td>\n",
       "      <td>[испанский, клуб, откреститься, от, неймара]</td>\n",
       "    </tr>\n",
       "  </tbody>\n",
       "</table>\n",
       "</div>"
      ],
      "text/plain": [
       "                                            sentence  \\\n",
       "0  австрия не представила доказательств вины росс...   \n",
       "1       обнаружено самое счастливое место на планете   \n",
       "2  российскую молодежь предложили обучать духовны...   \n",
       "3  названы регионы россии с самым дорогим и дешев...   \n",
       "4            испанские клубы открестились от неймара   \n",
       "\n",
       "                                       list_of_words  \\\n",
       "0  [австрия, не, представила, доказательств, вины...   \n",
       "1  [обнаружено, самое, счастливое, место, на, пла...   \n",
       "2  [российскую, молодежь, предложили, обучать, ду...   \n",
       "3  [названы, регионы, россии, с, самым, дорогим, ...   \n",
       "4      [испанские, клубы, открестились, от, неймара]   \n",
       "\n",
       "                             lemmatize_list_of_words  \n",
       "0  [австрия, не, представить, доказательство, вин...  \n",
       "1  [обнаружить, самый, счастливый, место, на, пла...  \n",
       "2  [российский, молодёжь, предложить, обучать, ду...  \n",
       "3  [назвать, регион, россия, с, самый, дорогой, и...  \n",
       "4       [испанский, клуб, откреститься, от, неймара]  "
      ]
     },
     "execution_count": 18,
     "metadata": {},
     "output_type": "execute_result"
    }
   ],
   "source": [
    "text_analizator_df.head()"
   ]
  },
  {
   "cell_type": "code",
   "execution_count": 19,
   "metadata": {},
   "outputs": [],
   "source": [
    "text_arrays = np.concatenate(text_analizator_df.lemmatize_list_of_words, axis=0)"
   ]
  },
  {
   "cell_type": "code",
   "execution_count": 20,
   "metadata": {},
   "outputs": [],
   "source": [
    "#уберем все пустые строки\n",
    "text_arrays = list( text_arrays)\n",
    "text_arrays = list(filter(None, text_arrays))"
   ]
  },
  {
   "cell_type": "code",
   "execution_count": 21,
   "metadata": {
    "scrolled": false
   },
   "outputs": [
    {
     "data": {
      "text/plain": [
       "Text(0.5, 1.0, 'Top Words')"
      ]
     },
     "execution_count": 21,
     "metadata": {},
     "output_type": "execute_result"
    },
    {
     "data": {
      "image/png": "[encoded data removed]",
      "text/plain": [
       "<Figure size 1152x576 with 1 Axes>"
      ]
     },
     "metadata": {
      "needs_background": "light"
     },
     "output_type": "display_data"
    }
   ],
   "source": [
    "#проанализируем популярные слова\n",
    "from sklearn.feature_extraction.text import CountVectorizer\n",
    "\n",
    "c_text = co.Counter(text_arrays)\n",
    "\n",
    "w =[]\n",
    "count_w = []\n",
    "\n",
    "\n",
    "most_freq_words = []\n",
    "\n",
    "for i in c_text.most_common(15):\n",
    "    w.append(i[0])\n",
    "    count_w.append(i[1])\n",
    "\n",
    "fig, ax = plt.subplots(figsize=(16,8))\n",
    "ax.bar(range(len(w)), count_w)\n",
    "ax.set_xticks(range(len(w)))\n",
    "ax.set_xticklabels(w)\n",
    "ax.set_title('Top Words')"
   ]
  },
  {
   "cell_type": "code",
   "execution_count": 22,
   "metadata": {},
   "outputs": [
    {
     "data": {
      "text/html": [
       "<div>\n",
       "<style scoped>\n",
       "    .dataframe tbody tr th:only-of-type {\n",
       "        vertical-align: middle;\n",
       "    }\n",
       "\n",
       "    .dataframe tbody tr th {\n",
       "        vertical-align: top;\n",
       "    }\n",
       "\n",
       "    .dataframe thead th {\n",
       "        text-align: right;\n",
       "    }\n",
       "</style>\n",
       "<table border=\"1\" class=\"dataframe\">\n",
       "  <thead>\n",
       "    <tr style=\"text-align: right;\">\n",
       "      <th></th>\n",
       "      <th>0</th>\n",
       "    </tr>\n",
       "  </thead>\n",
       "  <tbody>\n",
       "    <tr>\n",
       "      <th>в</th>\n",
       "      <td>47612</td>\n",
       "    </tr>\n",
       "    <tr>\n",
       "      <th>на</th>\n",
       "      <td>21524</td>\n",
       "    </tr>\n",
       "    <tr>\n",
       "      <th>с</th>\n",
       "      <td>12088</td>\n",
       "    </tr>\n",
       "    <tr>\n",
       "      <th>и</th>\n",
       "      <td>10135</td>\n",
       "    </tr>\n",
       "    <tr>\n",
       "      <th>о</th>\n",
       "      <td>9719</td>\n",
       "    </tr>\n",
       "    <tr>\n",
       "      <th>...</th>\n",
       "      <td>...</td>\n",
       "    </tr>\n",
       "    <tr>\n",
       "      <th>снизиться</th>\n",
       "      <td>92</td>\n",
       "    </tr>\n",
       "    <tr>\n",
       "      <th>вступиться</th>\n",
       "      <td>92</td>\n",
       "    </tr>\n",
       "    <tr>\n",
       "      <th>мощный</th>\n",
       "      <td>91</td>\n",
       "    </tr>\n",
       "    <tr>\n",
       "      <th>ленинград</th>\n",
       "      <td>91</td>\n",
       "    </tr>\n",
       "    <tr>\n",
       "      <th>посол</th>\n",
       "      <td>91</td>\n",
       "    </tr>\n",
       "  </tbody>\n",
       "</table>\n",
       "<p>1500 rows × 1 columns</p>\n",
       "</div>"
      ],
      "text/plain": [
       "                0\n",
       "в           47612\n",
       "на          21524\n",
       "с           12088\n",
       "и           10135\n",
       "о            9719\n",
       "...           ...\n",
       "снизиться      92\n",
       "вступиться     92\n",
       "мощный         91\n",
       "ленинград      91\n",
       "посол          91\n",
       "\n",
       "[1500 rows x 1 columns]"
      ]
     },
     "execution_count": 22,
     "metadata": {},
     "output_type": "execute_result"
    }
   ],
   "source": [
    "top_words = 1500\n",
    "pd.DataFrame.from_dict(dict(c_text) , orient = 'index').sort_values(by = 0,ascending = False).head(top_words)"
   ]
  },
  {
   "cell_type": "code",
   "execution_count": 23,
   "metadata": {},
   "outputs": [],
   "source": [
    "#оставим для модели топ  слов\n",
    "final_words = pd.DataFrame.from_dict(dict(c_text) , orient = 'index').sort_values(by = 0 , ascending = False).head(top_words).index.values"
   ]
  },
  {
   "cell_type": "code",
   "execution_count": 24,
   "metadata": {},
   "outputs": [],
   "source": [
    "f = lambda x: ' '.join([item for item in x if item in final_words])\n",
    "text_analizator_df['lem_text'] = text_analizator_df['lemmatize_list_of_words'].apply(f)"
   ]
  },
  {
   "cell_type": "code",
   "execution_count": 25,
   "metadata": {},
   "outputs": [
    {
     "name": "stdout",
     "output_type": "stream",
     "text": [
      "old- австрия не представила доказательств вины российских биатлонистов\n",
      "\n",
      "\n",
      "stem -не представить российский биатлонист\n"
     ]
    }
   ],
   "source": [
    "print(f'old- {text_analizator_df.loc[0][\"sentence\"]}' )\n",
    "print('\\n')\n",
    "print(f'stem -{text_analizator_df.loc[0][\"lem_text\"]}' )"
   ]
  },
  {
   "cell_type": "code",
   "execution_count": 26,
   "metadata": {},
   "outputs": [
    {
     "name": "stdout",
     "output_type": "stream",
     "text": [
      "<class 'numpy.ndarray'> (116098, 1483)\n"
     ]
    }
   ],
   "source": [
    "from sklearn.feature_extraction.text import TfidfVectorizer\n",
    "\n",
    "texts = text_analizator_df['lem_text']\n",
    "\n",
    "vec = TfidfVectorizer(max_features=top_words)\n",
    "tfidf_mat = vec.fit_transform(texts).toarray()\n",
    "print(type(tfidf_mat),tfidf_mat.shape)"
   ]
  },
  {
   "cell_type": "code",
   "execution_count": 27,
   "metadata": {},
   "outputs": [],
   "source": [
    "train = pd.DataFrame(tfidf_mat)\n",
    "train['category'] =  data['tags']\n",
    "\n",
    "target = 'category'\n",
    "train_columns = list(set(train.columns) - set([target]))"
   ]
  },
  {
   "cell_type": "code",
   "execution_count": 28,
   "metadata": {},
   "outputs": [],
   "source": [
    "train.dropna(inplace = True)"
   ]
  },
  {
   "cell_type": "code",
   "execution_count": 29,
   "metadata": {},
   "outputs": [],
   "source": [
    "#переводим в инты таргет\n",
    "labels, levels = pd.factorize(train[target])\n",
    "train['category_int'] = labels\n",
    "\n",
    "target = 'category_int'"
   ]
  },
  {
   "cell_type": "code",
   "execution_count": 30,
   "metadata": {},
   "outputs": [
    {
     "data": {
      "text/plain": [
       "Index(['Зимние виды', 'Мир', 'Coцсети', 'Деньги', 'Футбол', 'Бизнес', 'Музыка',\n",
       "       'Квартира', 'Бокс и ММА', 'Театр', 'Оружие', 'Дача', 'Прибалтика',\n",
       "       'Рынки', 'Звери', 'Техника', 'Интернет', 'Люди', 'Наука', 'Кино',\n",
       "       'ТВ и радио', 'Космос', 'Явления', 'Стиль', 'События', 'Деловой климат',\n",
       "       'Искусство', 'Книги', 'Закавказье', 'Летние виды', 'Пресса', 'Игры',\n",
       "       'Средняя Азия', 'Москва', 'Гаджеты', 'Город'],\n",
       "      dtype='object')"
      ]
     },
     "execution_count": 30,
     "metadata": {},
     "output_type": "execute_result"
    }
   ],
   "source": [
    "levels"
   ]
  },
  {
   "cell_type": "code",
   "execution_count": 31,
   "metadata": {},
   "outputs": [
    {
     "name": "stdout",
     "output_type": "stream",
     "text": [
      "rate target detect fight in game 17.5\n"
     ]
    },
    {
     "data": {
      "image/png": "[encoded data removed]",
      "text/plain": [
       "<Figure size 432x288 with 1 Axes>"
      ]
     },
     "metadata": {
      "needs_background": "light"
     },
     "output_type": "display_data"
    }
   ],
   "source": [
    "#сделаем оверсемплинг\n",
    "\n",
    "from imblearn.over_sampling import RandomOverSampler\n",
    "\n",
    "ros = RandomOverSampler()\n",
    "X_ros, y_ros = ros.fit_sample(train[train_columns], train[target])\n",
    "\n",
    "print(f'rate target detect fight in game {sum(y_ros) / X_ros.shape[0]}')\n",
    "\n",
    "y_ros.value_counts().plot(kind='bar', title='Count (target)');"
   ]
  },
  {
   "cell_type": "code",
   "execution_count": 32,
   "metadata": {},
   "outputs": [],
   "source": [
    "X_ros[target] = y_ros\n",
    "train = X_ros[:]"
   ]
  },
  {
   "cell_type": "code",
   "execution_count": 33,
   "metadata": {},
   "outputs": [],
   "source": [
    "from sklearn.neural_network import MLPClassifier\n",
    "from sklearn.model_selection import train_test_split\n",
    "\n",
    "x_train, x_test, y_train, y_test = train_test_split(train[train_columns]\n",
    "                                                    , train[target] \n",
    "                                                    , test_size=0.2\n",
    "                                                    , stratify = train[target] \n",
    "                                                   )"
   ]
  },
  {
   "cell_type": "code",
   "execution_count": 34,
   "metadata": {},
   "outputs": [],
   "source": [
    "text_classifier = MLPClassifier(hidden_layer_sizes = (16, 4), max_iter = 200, random_state = 40,\n",
    "                                activation = 'relu')"
   ]
  },
  {
   "cell_type": "code",
   "execution_count": 38,
   "metadata": {},
   "outputs": [],
   "source": [
    "# model = text_classifier.fit(x_train, y_train)\n",
    "import pickle\n",
    "with open(\"./models/new_mlp_model.pkl\", 'rb') as file:\n",
    "    model = pickle.load(file)"
   ]
  },
  {
   "cell_type": "code",
   "execution_count": 37,
   "metadata": {
    "scrolled": false
   },
   "outputs": [
    {
     "name": "stdout",
     "output_type": "stream",
     "text": [
      "              precision    recall  f1-score   support\n",
      "\n",
      "           0       0.08      0.09      0.08      1115\n",
      "           1       0.00      0.00      0.00      1115\n",
      "           2       0.06      0.02      0.03      1115\n",
      "           3       0.79      0.84      0.81      1115\n",
      "           4       0.00      0.00      0.00      1115\n",
      "           5       0.00      0.00      0.00      1115\n",
      "           6       0.00      0.00      0.00      1115\n",
      "           7       0.00      0.00      0.00      1115\n",
      "           8       0.04      0.00      0.01      1115\n",
      "           9       0.49      0.89      0.64      1115\n",
      "          10       0.10      0.21      0.14      1115\n",
      "          11       0.71      0.84      0.77      1115\n",
      "          12       0.85      0.93      0.89      1115\n",
      "          13       0.30      0.69      0.42      1115\n",
      "          14       0.05      0.02      0.02      1115\n",
      "          15       0.71      0.86      0.78      1115\n",
      "          16       0.00      0.00      0.00      1115\n",
      "          17       0.05      0.05      0.05      1115\n",
      "          18       0.04      0.00      0.01      1115\n",
      "          19       0.00      0.00      0.00      1115\n",
      "          20       0.00      0.00      0.00      1115\n",
      "          21       0.07      0.16      0.10      1115\n",
      "          22       0.08      0.10      0.09      1115\n",
      "          23       0.07      0.10      0.08      1115\n",
      "          24       0.05      0.01      0.02      1115\n",
      "          25       0.00      0.00      0.00      1115\n",
      "          26       0.72      0.86      0.78      1115\n",
      "          27       0.34      0.98      0.50      1115\n",
      "          28       0.89      0.93      0.91      1115\n",
      "          29       0.10      0.33      0.16      1115\n",
      "          30       0.45      0.73      0.56      1115\n",
      "          31       0.84      0.92      0.88      1115\n",
      "          32       0.92      0.95      0.93      1115\n",
      "          33       0.69      0.96      0.80      1115\n",
      "          34       0.70      0.92      0.79      1115\n",
      "          35       0.18      0.43      0.25      1115\n",
      "\n",
      "    accuracy                           0.38     40140\n",
      "   macro avg       0.29      0.38      0.32     40140\n",
      "weighted avg       0.29      0.38      0.32     40140\n",
      "\n"
     ]
    },
    {
     "name": "stderr",
     "output_type": "stream",
     "text": [
      "c:\\python\\lib\\site-packages\\sklearn\\metrics\\_classification.py:1221: UndefinedMetricWarning: Precision and F-score are ill-defined and being set to 0.0 in labels with no predicted samples. Use `zero_division` parameter to control this behavior.\n",
      "  _warn_prf(average, modifier, msg_start, len(result))\n"
     ]
    }
   ],
   "source": [
    "predicts = model.predict(x_test)\n",
    "from sklearn.metrics import classification_report\n",
    "print(classification_report(y_test, predicts))"
   ]
  },
  {
   "cell_type": "code",
   "execution_count": 65,
   "metadata": {},
   "outputs": [],
   "source": [
    "message = 'читать редакция'\n",
    "prediction = model.predict_proba(vec.transform([message]).toarray())"
   ]
  },
  {
   "cell_type": "code",
   "execution_count": 66,
   "metadata": {},
   "outputs": [
    {
     "name": "stdout",
     "output_type": "stream",
     "text": [
      "0.09577549321814127\n",
      "33\n",
      "Москва\n"
     ]
    }
   ],
   "source": [
    "print(prediction.max())\n",
    "print(prediction.argmax())\n",
    "print(levels[prediction.argmax()])"
   ]
  },
  {
   "cell_type": "code",
   "execution_count": null,
   "metadata": {
    "code_folding": []
   },
   "outputs": [],
   "source": [
    "# import pickle\n",
    "# pkl_filename = \"models/new_mlp_model.pkl\"\n",
    "# with open(pkl_filename, 'wb') as file:\n",
    "#     pickle.dump(model, file)"
   ]
  },
  {
   "cell_type": "code",
   "execution_count": null,
   "metadata": {},
   "outputs": [],
   "source": [
    "# pickle.dump(vec, open(\"models/tfidf.pickle\", \"wb\"))"
   ]
  }
 ],
 "metadata": {
  "kernelspec": {
   "display_name": "Python 3",
   "language": "python",
   "name": "python3"
  },
  "language_info": {
   "codemirror_mode": {
    "name": "ipython",
    "version": 3
   },
   "file_extension": ".py",
   "mimetype": "text/x-python",
   "name": "python",
   "nbconvert_exporter": "python",
   "pygments_lexer": "ipython3",
   "version": "3.8.5"
  }
 },
 "nbformat": 4,
 "nbformat_minor": 4
}

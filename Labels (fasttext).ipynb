{
 "cells": [
  {
   "cell_type": "code",
   "execution_count": 6,
   "metadata": {},
   "outputs": [],
   "source": [
    "import pandas as pd\n",
    "import string\n",
    "import re\n",
    "import nltk\n",
    "import numpy as np\n",
    "import collections as co\n",
    "import matplotlib.pyplot as plt\n",
    "%matplotlib inline\n",
    "\n",
    "from tqdm import tqdm"
   ]
  },
  {
   "cell_type": "code",
   "execution_count": 7,
   "metadata": {},
   "outputs": [],
   "source": [
    "data = pd.read_csv('data/lenta-ru-news.csv')"
   ]
  },
  {
   "cell_type": "code",
   "execution_count": 8,
   "metadata": {},
   "outputs": [
    {
     "data": {
      "text/html": [
       "<div>\n",
       "<style scoped>\n",
       "    .dataframe tbody tr th:only-of-type {\n",
       "        vertical-align: middle;\n",
       "    }\n",
       "\n",
       "    .dataframe tbody tr th {\n",
       "        vertical-align: top;\n",
       "    }\n",
       "\n",
       "    .dataframe thead th {\n",
       "        text-align: right;\n",
       "    }\n",
       "</style>\n",
       "<table border=\"1\" class=\"dataframe\">\n",
       "  <thead>\n",
       "    <tr style=\"text-align: right;\">\n",
       "      <th></th>\n",
       "      <th>url</th>\n",
       "      <th>title</th>\n",
       "      <th>text</th>\n",
       "      <th>topic</th>\n",
       "      <th>tags</th>\n",
       "    </tr>\n",
       "  </thead>\n",
       "  <tbody>\n",
       "    <tr>\n",
       "      <th>0</th>\n",
       "      <td>https://lenta.ru/news/2018/12/14/cancer/</td>\n",
       "      <td>Названы регионы России с самой высокой смертно...</td>\n",
       "      <td>Вице-премьер по социальным вопросам Татьяна Го...</td>\n",
       "      <td>Россия</td>\n",
       "      <td>Общество</td>\n",
       "    </tr>\n",
       "    <tr>\n",
       "      <th>1</th>\n",
       "      <td>https://lenta.ru/news/2018/12/15/doping/</td>\n",
       "      <td>Австрия не представила доказательств вины росс...</td>\n",
       "      <td>Австрийские правоохранительные органы не предс...</td>\n",
       "      <td>Спорт</td>\n",
       "      <td>Зимние виды</td>\n",
       "    </tr>\n",
       "    <tr>\n",
       "      <th>2</th>\n",
       "      <td>https://lenta.ru/news/2018/12/15/disneyland/</td>\n",
       "      <td>Обнаружено самое счастливое место на планете</td>\n",
       "      <td>Сотрудники социальной сети Instagram проанализ...</td>\n",
       "      <td>Путешествия</td>\n",
       "      <td>Мир</td>\n",
       "    </tr>\n",
       "    <tr>\n",
       "      <th>3</th>\n",
       "      <td>https://lenta.ru/news/2018/12/15/usa25/</td>\n",
       "      <td>В США раскрыли сумму расходов на расследование...</td>\n",
       "      <td>С начала расследования российского вмешательст...</td>\n",
       "      <td>Мир</td>\n",
       "      <td>Политика</td>\n",
       "    </tr>\n",
       "    <tr>\n",
       "      <th>4</th>\n",
       "      <td>https://lenta.ru/news/2018/12/15/integrity/</td>\n",
       "      <td>Хакеры рассказали о планах Великобритании зами...</td>\n",
       "      <td>Хакерская группировка Anonymous опубликовала н...</td>\n",
       "      <td>Мир</td>\n",
       "      <td>Общество</td>\n",
       "    </tr>\n",
       "  </tbody>\n",
       "</table>\n",
       "</div>"
      ],
      "text/plain": [
       "                                            url  \\\n",
       "0      https://lenta.ru/news/2018/12/14/cancer/   \n",
       "1      https://lenta.ru/news/2018/12/15/doping/   \n",
       "2  https://lenta.ru/news/2018/12/15/disneyland/   \n",
       "3       https://lenta.ru/news/2018/12/15/usa25/   \n",
       "4   https://lenta.ru/news/2018/12/15/integrity/   \n",
       "\n",
       "                                               title  \\\n",
       "0  Названы регионы России с самой высокой смертно...   \n",
       "1  Австрия не представила доказательств вины росс...   \n",
       "2       Обнаружено самое счастливое место на планете   \n",
       "3  В США раскрыли сумму расходов на расследование...   \n",
       "4  Хакеры рассказали о планах Великобритании зами...   \n",
       "\n",
       "                                                text        topic         tags  \n",
       "0  Вице-премьер по социальным вопросам Татьяна Го...       Россия     Общество  \n",
       "1  Австрийские правоохранительные органы не предс...        Спорт  Зимние виды  \n",
       "2  Сотрудники социальной сети Instagram проанализ...  Путешествия          Мир  \n",
       "3  С начала расследования российского вмешательст...          Мир     Политика  \n",
       "4  Хакерская группировка Anonymous опубликовала н...          Мир     Общество  "
      ]
     },
     "execution_count": 8,
     "metadata": {},
     "output_type": "execute_result"
    }
   ],
   "source": [
    "data.head()"
   ]
  },
  {
   "cell_type": "code",
   "execution_count": 9,
   "metadata": {},
   "outputs": [
    {
     "data": {
      "text/plain": [
       "(739351, 5)"
      ]
     },
     "execution_count": 9,
     "metadata": {},
     "output_type": "execute_result"
    }
   ],
   "source": [
    "data.shape"
   ]
  },
  {
   "cell_type": "code",
   "execution_count": 10,
   "metadata": {},
   "outputs": [],
   "source": [
    "freq = pd.DataFrame(data['tags'].value_counts())\n",
    "\n",
    "category_to_drop = ['Украина', 'Происшествия', 'Госэкономика', 'Следствие и суд', 'Преступность',\n",
    "                    'Регионы', 'Криминал', 'Конфликты', 'Полиция и спецслужбы', 'Молдавия', 'Все',\n",
    "                    'Общество', 'Политика', 'Прибалтика', 'Закавказье', 'Средняя Азия', 'Оружие',\n",
    "                    'Космос', 'Белоруссия', 'Деловой климат', 'Реклама', 'Мнения', 'Преступная Россия',\n",
    "                    'Киберпреступность', 'Вирусные ролики', 'Мемы', 'Мировой бизнес', 'Автобизнес',\n",
    "                    'Финансы компаний', 'Явления', 'Пресса'\n",
    "                   ]\n",
    "\n",
    "freq_threshold = 100\n",
    "category_to_drop.extend(freq[freq['tags'] < freq_threshold].index)"
   ]
  },
  {
   "cell_type": "code",
   "execution_count": 11,
   "metadata": {},
   "outputs": [],
   "source": [
    "for cat in category_to_drop:\n",
    "    data = data.drop(data[data['tags'] == cat].index)"
   ]
  },
  {
   "cell_type": "code",
   "execution_count": 12,
   "metadata": {},
   "outputs": [
    {
     "data": {
      "text/plain": [
       "(135384, 5)"
      ]
     },
     "execution_count": 12,
     "metadata": {},
     "output_type": "execute_result"
    }
   ],
   "source": [
    "data.shape"
   ]
  },
  {
   "cell_type": "code",
   "execution_count": 13,
   "metadata": {},
   "outputs": [
    {
     "data": {
      "text/plain": [
       "array(['Зимние виды', 'Мир', 'Coцсети', 'Хоккей', 'Деньги', 'Футбол',\n",
       "       'Бизнес', 'Музыка', 'Квартира', 'Бокс и ММА', 'Театр', 'Дача',\n",
       "       'Рынки', 'Звери', 'Техника', 'Интернет', 'Люди', 'Наука',\n",
       "       'Внешний вид', 'Кино', 'ТВ и радио', 'Стиль', 'События',\n",
       "       'Искусство', 'Движение', 'Жизнь', 'Авто', 'Книги', nan, 'Часы',\n",
       "       'Летние виды', 'Россия', 'Вещи', 'История', 'Игры', 'Достижения',\n",
       "       'Офис', 'Еда', 'Москва', 'Гаджеты', 'Город', 'Софт', 'Инструменты'],\n",
       "      dtype=object)"
      ]
     },
     "execution_count": 13,
     "metadata": {},
     "output_type": "execute_result"
    }
   ],
   "source": [
    "data['tags'].unique()"
   ]
  },
  {
   "cell_type": "code",
   "execution_count": 14,
   "metadata": {},
   "outputs": [
    {
     "data": {
      "text/plain": [
       "False    108870\n",
       "True      26514\n",
       "Name: tags, dtype: int64"
      ]
     },
     "execution_count": 14,
     "metadata": {},
     "output_type": "execute_result"
    }
   ],
   "source": [
    "data['tags'].isna().value_counts()"
   ]
  },
  {
   "cell_type": "code",
   "execution_count": 15,
   "metadata": {},
   "outputs": [],
   "source": [
    "data = data.drop(data[data['tags'].isna()].index)"
   ]
  },
  {
   "cell_type": "code",
   "execution_count": 16,
   "metadata": {},
   "outputs": [
    {
     "data": {
      "text/plain": [
       "(108870, 5)"
      ]
     },
     "execution_count": 16,
     "metadata": {},
     "output_type": "execute_result"
    }
   ],
   "source": [
    "data.shape"
   ]
  },
  {
   "cell_type": "code",
   "execution_count": 17,
   "metadata": {},
   "outputs": [],
   "source": [
    "data['title'] = data['title'].str.replace('\\xa0', ' ')\n",
    "data['title'] = data['title'].str.replace('\\[.*\\]', '', regex=True)\n",
    "data['title'] = data['title'].str.replace(\"\\!\", '', regex=True)\n",
    "data['title'] = data['title'].str.replace(\"\\'\", '', regex=True)\n",
    "data['title'] = data['title'].str.lower()"
   ]
  },
  {
   "cell_type": "code",
   "execution_count": 18,
   "metadata": {},
   "outputs": [
    {
     "data": {
      "text/html": [
       "<div>\n",
       "<style scoped>\n",
       "    .dataframe tbody tr th:only-of-type {\n",
       "        vertical-align: middle;\n",
       "    }\n",
       "\n",
       "    .dataframe tbody tr th {\n",
       "        vertical-align: top;\n",
       "    }\n",
       "\n",
       "    .dataframe thead th {\n",
       "        text-align: right;\n",
       "    }\n",
       "</style>\n",
       "<table border=\"1\" class=\"dataframe\">\n",
       "  <thead>\n",
       "    <tr style=\"text-align: right;\">\n",
       "      <th></th>\n",
       "      <th>review</th>\n",
       "    </tr>\n",
       "  </thead>\n",
       "  <tbody>\n",
       "    <tr>\n",
       "      <th>0</th>\n",
       "      <td>австрия не представила доказательств вины росс...</td>\n",
       "    </tr>\n",
       "    <tr>\n",
       "      <th>1</th>\n",
       "      <td>обнаружено самое счастливое место на планете</td>\n",
       "    </tr>\n",
       "    <tr>\n",
       "      <th>2</th>\n",
       "      <td>российскую молодежь предложили обучать духовны...</td>\n",
       "    </tr>\n",
       "    <tr>\n",
       "      <th>3</th>\n",
       "      <td>овечкин повторил свой рекорд</td>\n",
       "    </tr>\n",
       "    <tr>\n",
       "      <th>4</th>\n",
       "      <td>названы регионы россии с самым дорогим и дешев...</td>\n",
       "    </tr>\n",
       "  </tbody>\n",
       "</table>\n",
       "</div>"
      ],
      "text/plain": [
       "                                              review\n",
       "0  австрия не представила доказательств вины росс...\n",
       "1       обнаружено самое счастливое место на планете\n",
       "2  российскую молодежь предложили обучать духовны...\n",
       "3                       овечкин повторил свой рекорд\n",
       "4  названы регионы россии с самым дорогим и дешев..."
      ]
     },
     "execution_count": 18,
     "metadata": {},
     "output_type": "execute_result"
    }
   ],
   "source": [
    "df_reviews = data[['title']][:]\n",
    "df_reviews.columns = ['review']\n",
    "df_reviews.reset_index(drop = True , inplace = True)\n",
    "df_reviews.head(5)"
   ]
  },
  {
   "cell_type": "code",
   "execution_count": 19,
   "metadata": {},
   "outputs": [],
   "source": [
    "list_true_words = []\n",
    "\n",
    "for i ,row in  df_reviews.iterrows():\n",
    "    words = []    \n",
    "    true_words = []    \n",
    "    \n",
    "    a_line = row['review']\n",
    "    \n",
    "    try:\n",
    "        words = re.split(' ', a_line)\n",
    "        true_words = []\n",
    "\n",
    "        for word in words:\n",
    "            m = re.search('(\\w+)',word)\n",
    "            if m is not None:\n",
    "                good_word = m.group(0)\n",
    "                true_words.append(good_word)       \n",
    "    except:\n",
    "        pass\n",
    "    \n",
    "    list_true_words.append(true_words)"
   ]
  },
  {
   "cell_type": "code",
   "execution_count": 20,
   "metadata": {},
   "outputs": [],
   "source": [
    "df_reviews['list_of_words'] = list_true_words"
   ]
  },
  {
   "cell_type": "code",
   "execution_count": 21,
   "metadata": {},
   "outputs": [
    {
     "data": {
      "text/html": [
       "<div>\n",
       "<style scoped>\n",
       "    .dataframe tbody tr th:only-of-type {\n",
       "        vertical-align: middle;\n",
       "    }\n",
       "\n",
       "    .dataframe tbody tr th {\n",
       "        vertical-align: top;\n",
       "    }\n",
       "\n",
       "    .dataframe thead th {\n",
       "        text-align: right;\n",
       "    }\n",
       "</style>\n",
       "<table border=\"1\" class=\"dataframe\">\n",
       "  <thead>\n",
       "    <tr style=\"text-align: right;\">\n",
       "      <th></th>\n",
       "      <th>sentence</th>\n",
       "      <th>list_of_words</th>\n",
       "    </tr>\n",
       "  </thead>\n",
       "  <tbody>\n",
       "    <tr>\n",
       "      <th>0</th>\n",
       "      <td>австрия не представила доказательств вины росс...</td>\n",
       "      <td>[австрия, не, представила, доказательств, вины...</td>\n",
       "    </tr>\n",
       "    <tr>\n",
       "      <th>1</th>\n",
       "      <td>обнаружено самое счастливое место на планете</td>\n",
       "      <td>[обнаружено, самое, счастливое, место, на, пла...</td>\n",
       "    </tr>\n",
       "    <tr>\n",
       "      <th>2</th>\n",
       "      <td>российскую молодежь предложили обучать духовны...</td>\n",
       "      <td>[российскую, молодежь, предложили, обучать, ду...</td>\n",
       "    </tr>\n",
       "    <tr>\n",
       "      <th>3</th>\n",
       "      <td>овечкин повторил свой рекорд</td>\n",
       "      <td>[овечкин, повторил, свой, рекорд]</td>\n",
       "    </tr>\n",
       "    <tr>\n",
       "      <th>4</th>\n",
       "      <td>названы регионы россии с самым дорогим и дешев...</td>\n",
       "      <td>[названы, регионы, россии, с, самым, дорогим, ...</td>\n",
       "    </tr>\n",
       "  </tbody>\n",
       "</table>\n",
       "</div>"
      ],
      "text/plain": [
       "                                            sentence  \\\n",
       "0  австрия не представила доказательств вины росс...   \n",
       "1       обнаружено самое счастливое место на планете   \n",
       "2  российскую молодежь предложили обучать духовны...   \n",
       "3                       овечкин повторил свой рекорд   \n",
       "4  названы регионы россии с самым дорогим и дешев...   \n",
       "\n",
       "                                       list_of_words  \n",
       "0  [австрия, не, представила, доказательств, вины...  \n",
       "1  [обнаружено, самое, счастливое, место, на, пла...  \n",
       "2  [российскую, молодежь, предложили, обучать, ду...  \n",
       "3                  [овечкин, повторил, свой, рекорд]  \n",
       "4  [названы, регионы, россии, с, самым, дорогим, ...  "
      ]
     },
     "execution_count": 21,
     "metadata": {},
     "output_type": "execute_result"
    }
   ],
   "source": [
    "text_analizator_df = df_reviews[:]\n",
    "text_analizator_df.rename(columns = {'review' : 'sentence'} , inplace = True)\n",
    "text_analizator_df.head()"
   ]
  },
  {
   "cell_type": "code",
   "execution_count": 22,
   "metadata": {},
   "outputs": [
    {
     "name": "stderr",
     "output_type": "stream",
     "text": [
      "c:\\python\\lib\\site-packages\\tqdm\\std.py:668: FutureWarning: The Panel class is removed from pandas. Accessing it from the top-level namespace will also be removed in the next version\n",
      "  from pandas import Panel\n",
      "my bar!: 100%|████████████████████████████████████████████████████████████████| 108870/108870 [01:50<00:00, 985.18it/s]\n"
     ]
    }
   ],
   "source": [
    "# Лемматизация\n",
    "import pymorphy2\n",
    "morph = pymorphy2.MorphAnalyzer()\n",
    "\n",
    "def lemmatize_list_of_words(list_of_words):\n",
    "    res = []\n",
    "    for word in list_of_words:\n",
    "        p = morph.parse(word)[0]\n",
    "        new_word = p.normal_form\n",
    "        res.append(new_word)\n",
    "    return res  \n",
    "\n",
    "tqdm.pandas(desc=\"my bar!\")\n",
    "text_analizator_df['lemmatize_list_of_words'] = text_analizator_df['list_of_words'].progress_apply(lemmatize_list_of_words)"
   ]
  },
  {
   "cell_type": "code",
   "execution_count": 23,
   "metadata": {},
   "outputs": [
    {
     "data": {
      "text/html": [
       "<div>\n",
       "<style scoped>\n",
       "    .dataframe tbody tr th:only-of-type {\n",
       "        vertical-align: middle;\n",
       "    }\n",
       "\n",
       "    .dataframe tbody tr th {\n",
       "        vertical-align: top;\n",
       "    }\n",
       "\n",
       "    .dataframe thead th {\n",
       "        text-align: right;\n",
       "    }\n",
       "</style>\n",
       "<table border=\"1\" class=\"dataframe\">\n",
       "  <thead>\n",
       "    <tr style=\"text-align: right;\">\n",
       "      <th></th>\n",
       "      <th>sentence</th>\n",
       "      <th>list_of_words</th>\n",
       "      <th>lemmatize_list_of_words</th>\n",
       "    </tr>\n",
       "  </thead>\n",
       "  <tbody>\n",
       "    <tr>\n",
       "      <th>0</th>\n",
       "      <td>австрия не представила доказательств вины росс...</td>\n",
       "      <td>[австрия, не, представила, доказательств, вины...</td>\n",
       "      <td>[австрия, не, представить, доказательство, вин...</td>\n",
       "    </tr>\n",
       "    <tr>\n",
       "      <th>1</th>\n",
       "      <td>обнаружено самое счастливое место на планете</td>\n",
       "      <td>[обнаружено, самое, счастливое, место, на, пла...</td>\n",
       "      <td>[обнаружить, самый, счастливый, место, на, пла...</td>\n",
       "    </tr>\n",
       "    <tr>\n",
       "      <th>2</th>\n",
       "      <td>российскую молодежь предложили обучать духовны...</td>\n",
       "      <td>[российскую, молодежь, предложили, обучать, ду...</td>\n",
       "      <td>[российский, молодёжь, предложить, обучать, ду...</td>\n",
       "    </tr>\n",
       "    <tr>\n",
       "      <th>3</th>\n",
       "      <td>овечкин повторил свой рекорд</td>\n",
       "      <td>[овечкин, повторил, свой, рекорд]</td>\n",
       "      <td>[овечкин, повторить, свой, рекорд]</td>\n",
       "    </tr>\n",
       "    <tr>\n",
       "      <th>4</th>\n",
       "      <td>названы регионы россии с самым дорогим и дешев...</td>\n",
       "      <td>[названы, регионы, россии, с, самым, дорогим, ...</td>\n",
       "      <td>[назвать, регион, россия, с, самый, дорогой, и...</td>\n",
       "    </tr>\n",
       "  </tbody>\n",
       "</table>\n",
       "</div>"
      ],
      "text/plain": [
       "                                            sentence  \\\n",
       "0  австрия не представила доказательств вины росс...   \n",
       "1       обнаружено самое счастливое место на планете   \n",
       "2  российскую молодежь предложили обучать духовны...   \n",
       "3                       овечкин повторил свой рекорд   \n",
       "4  названы регионы россии с самым дорогим и дешев...   \n",
       "\n",
       "                                       list_of_words  \\\n",
       "0  [австрия, не, представила, доказательств, вины...   \n",
       "1  [обнаружено, самое, счастливое, место, на, пла...   \n",
       "2  [российскую, молодежь, предложили, обучать, ду...   \n",
       "3                  [овечкин, повторил, свой, рекорд]   \n",
       "4  [названы, регионы, россии, с, самым, дорогим, ...   \n",
       "\n",
       "                             lemmatize_list_of_words  \n",
       "0  [австрия, не, представить, доказательство, вин...  \n",
       "1  [обнаружить, самый, счастливый, место, на, пла...  \n",
       "2  [российский, молодёжь, предложить, обучать, ду...  \n",
       "3                 [овечкин, повторить, свой, рекорд]  \n",
       "4  [назвать, регион, россия, с, самый, дорогой, и...  "
      ]
     },
     "execution_count": 23,
     "metadata": {},
     "output_type": "execute_result"
    }
   ],
   "source": [
    "text_analizator_df.head()"
   ]
  },
  {
   "cell_type": "code",
   "execution_count": 24,
   "metadata": {},
   "outputs": [],
   "source": [
    "f = lambda x: ' '.join([item for item in x])\n",
    "text_analizator_df['lem_text'] = text_analizator_df['lemmatize_list_of_words'].apply(f)"
   ]
  },
  {
   "cell_type": "code",
   "execution_count": 25,
   "metadata": {
    "scrolled": true
   },
   "outputs": [
    {
     "name": "stdout",
     "output_type": "stream",
     "text": [
      "old- австрия не представила доказательств вины российских биатлонистов\n",
      "\n",
      "\n",
      "stem -австрия не представить доказательство вина российский биатлонист\n"
     ]
    }
   ],
   "source": [
    "print(f'old- {text_analizator_df.loc[0][\"sentence\"]}' )\n",
    "print('\\n')\n",
    "print(f'stem -{text_analizator_df.loc[0][\"lem_text\"]}' )"
   ]
  },
  {
   "cell_type": "code",
   "execution_count": 26,
   "metadata": {},
   "outputs": [],
   "source": [
    "df_train = pd.DataFrame({'txt': text_analizator_df['lem_text'], 'target': data['tags'].reset_index(drop=True)})"
   ]
  },
  {
   "cell_type": "code",
   "execution_count": 27,
   "metadata": {},
   "outputs": [],
   "source": [
    "from sklearn.model_selection import train_test_split\n",
    "\n",
    "x_train, x_test, y_train, y_test = train_test_split(df_train['txt'],\n",
    "                                                    df_train['target'], \n",
    "                                                    test_size=0.2,\n",
    "                                                    stratify = df_train['target'] \n",
    "                                                   )"
   ]
  },
  {
   "cell_type": "code",
   "execution_count": 28,
   "metadata": {},
   "outputs": [],
   "source": [
    "df_fasttext_train = pd.DataFrame({'txt': x_train, 'target': y_train})\n",
    "df_fasttext_test = pd.DataFrame({'txt': x_test, 'target': y_test})"
   ]
  },
  {
   "cell_type": "code",
   "execution_count": 29,
   "metadata": {},
   "outputs": [],
   "source": [
    "# Для обучения придется сделать файл, где целевой класс должен начинаться с __label__\n",
    "df_fasttext_train['target'] = df_fasttext_train['target'].apply(lambda x: '__label__' + str(x))\n",
    "df_fasttext_test['target'] = df_fasttext_test['target'].apply(lambda x: '__label__' + str(x))\n",
    "df_fasttext_train[['target', 'txt']].to_csv('df_fasttext_train.txt', header=False, index=False, sep=\"\\t\")\n",
    "df_fasttext_test[['target', 'txt']].to_csv('df_fasttext_test.txt', header=False, index=False, sep=\"\\t\")"
   ]
  },
  {
   "cell_type": "code",
   "execution_count": 30,
   "metadata": {},
   "outputs": [],
   "source": [
    "df_train['target'] = df_train['target'].apply(lambda x: '__label__' + str(x))\n",
    "df_train[['target', 'txt']].to_csv('df_fasttext_train_fulldata.txt', header=False, index=False, sep=\"\\t\")"
   ]
  },
  {
   "cell_type": "code",
   "execution_count": 50,
   "metadata": {},
   "outputs": [],
   "source": [
    "import fasttext\n",
    "model = fasttext.train_supervised(input='df_fasttext_train_fulldata.txt',\n",
    "                                  dim=80,\n",
    "                                  epoch=50,\n",
    "                                  lr=0.5,\n",
    "                                  wordNgrams=3,\n",
    "                                  ws=10                                  \n",
    "                                 )"
   ]
  },
  {
   "cell_type": "code",
   "execution_count": 51,
   "metadata": {},
   "outputs": [
    {
     "data": {
      "text/plain": [
       "(21774, 0.9994948103242399, 0.9994948103242399)"
      ]
     },
     "execution_count": 51,
     "metadata": {},
     "output_type": "execute_result"
    }
   ],
   "source": [
    "model.test(\"df_fasttext_test.txt\", k=1)"
   ]
  },
  {
   "cell_type": "code",
   "execution_count": 52,
   "metadata": {},
   "outputs": [],
   "source": [
    "model.save_model('models/fasttext_fulldata.bin')"
   ]
  },
  {
   "cell_type": "code",
   "execution_count": 53,
   "metadata": {},
   "outputs": [],
   "source": [
    "def get_tag(prediction):\n",
    "    tag = str(prediction[0])\n",
    "    proba = prediction[1][0]\n",
    "    tag = tag.replace('__label__', '')\n",
    "    tag = list(filter(None, re.split('\\W|\\d', tag)))\n",
    "    return tag[0] if (proba > 0.9) else -1"
   ]
  },
  {
   "cell_type": "code",
   "execution_count": 54,
   "metadata": {},
   "outputs": [
    {
     "data": {
      "text/plain": [
       "(('__label__Рынки',), array([0.9757992]))"
      ]
     },
     "execution_count": 54,
     "metadata": {},
     "output_type": "execute_result"
    }
   ],
   "source": [
    "message = 'купить акция и облигация'\n",
    "prediction = model.predict(message, k=1)\n",
    "prediction"
   ]
  },
  {
   "cell_type": "code",
   "execution_count": 55,
   "metadata": {},
   "outputs": [
    {
     "data": {
      "text/plain": [
       "'Рынки'"
      ]
     },
     "execution_count": 55,
     "metadata": {},
     "output_type": "execute_result"
    }
   ],
   "source": [
    "get_tag(prediction)"
   ]
  },
  {
   "cell_type": "code",
   "execution_count": 56,
   "metadata": {},
   "outputs": [],
   "source": [
    "def print_results(N, p, r):\n",
    "    print(\"N\\t\" + str(N))\n",
    "    print(\"P@{}\\t{:.3f}\".format(1, p))\n",
    "    print(\"R@{}\\t{:.3f}\".format(1, r))"
   ]
  },
  {
   "cell_type": "code",
   "execution_count": 1,
   "metadata": {},
   "outputs": [
    {
     "ename": "NameError",
     "evalue": "name 'model' is not defined",
     "output_type": "error",
     "traceback": [
      "\u001b[1;31m---------------------------------------------------------------------------\u001b[0m",
      "\u001b[1;31mNameError\u001b[0m                                 Traceback (most recent call last)",
      "\u001b[1;32m<ipython-input-1-83d3d8d4dbcf>\u001b[0m in \u001b[0;36m<module>\u001b[1;34m\u001b[0m\n\u001b[0;32m      1\u001b[0m \u001b[1;31m# with the previously trained `model` object, call :\u001b[0m\u001b[1;33m\u001b[0m\u001b[1;33m\u001b[0m\u001b[1;33m\u001b[0m\u001b[0m\n\u001b[1;32m----> 2\u001b[1;33m \u001b[0mmodel\u001b[0m\u001b[1;33m.\u001b[0m\u001b[0mquantize\u001b[0m\u001b[1;33m(\u001b[0m\u001b[0minput\u001b[0m\u001b[1;33m=\u001b[0m\u001b[1;34m'df_fasttext_train_fulldata.txt'\u001b[0m\u001b[1;33m,\u001b[0m \u001b[0mretrain\u001b[0m\u001b[1;33m=\u001b[0m\u001b[1;32mTrue\u001b[0m\u001b[1;33m,\u001b[0m \u001b[0mcutoff\u001b[0m\u001b[1;33m=\u001b[0m\u001b[1;36m110539\u001b[0m\u001b[1;33m)\u001b[0m\u001b[1;33m\u001b[0m\u001b[1;33m\u001b[0m\u001b[0m\n\u001b[0m\u001b[0;32m      3\u001b[0m \u001b[1;33m\u001b[0m\u001b[0m\n\u001b[0;32m      4\u001b[0m \u001b[1;31m# then display results and save the new model :\u001b[0m\u001b[1;33m\u001b[0m\u001b[1;33m\u001b[0m\u001b[1;33m\u001b[0m\u001b[0m\n\u001b[0;32m      5\u001b[0m \u001b[0mprint_results\u001b[0m\u001b[1;33m(\u001b[0m\u001b[1;33m*\u001b[0m\u001b[0mmodel\u001b[0m\u001b[1;33m.\u001b[0m\u001b[0mtest\u001b[0m\u001b[1;33m(\u001b[0m\u001b[1;34m\"df_fasttext_test.txt\"\u001b[0m\u001b[1;33m)\u001b[0m\u001b[1;33m)\u001b[0m\u001b[1;33m\u001b[0m\u001b[1;33m\u001b[0m\u001b[0m\n",
      "\u001b[1;31mNameError\u001b[0m: name 'model' is not defined"
     ]
    }
   ],
   "source": [
    "# with the previously trained `model` object, call :\n",
    "model.quantize(input='df_fasttext_train_fulldata.txt', retrain=True)\n",
    "\n",
    "# then display results and save the new model :\n",
    "print_results(*model.test(\"df_fasttext_test.txt\"))\n",
    "model.save_model(\"models/fasttext_fulldata_2.ftz\")"
   ]
  },
  {
   "cell_type": "code",
   "execution_count": 58,
   "metadata": {},
   "outputs": [
    {
     "name": "stdout",
     "output_type": "stream",
     "text": [
      "Help on method quantize in module fasttext.FastText:\n",
      "\n",
      "quantize(input=None, qout=False, cutoff=0, retrain=False, epoch=None, lr=None, thread=None, verbose=None, dsub=2, qnorm=False) method of fasttext.FastText._FastText instance\n",
      "    Quantize the model reducing the size of the model and\n",
      "    it's memory footprint.\n",
      "\n"
     ]
    }
   ],
   "source": [
    "help(model.quantize)"
   ]
  }
 ],
 "metadata": {
  "kernelspec": {
   "display_name": "Python 3",
   "language": "python",
   "name": "python3"
  },
  "language_info": {
   "codemirror_mode": {
    "name": "ipython",
    "version": 3
   },
   "file_extension": ".py",
   "mimetype": "text/x-python",
   "name": "python",
   "nbconvert_exporter": "python",
   "pygments_lexer": "ipython3",
   "version": "3.8.5"
  }
 },
 "nbformat": 4,
 "nbformat_minor": 4
}
